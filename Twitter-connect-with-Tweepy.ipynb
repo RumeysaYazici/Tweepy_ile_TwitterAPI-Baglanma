{
 "metadata": {
  "language_info": {
   "codemirror_mode": {
    "name": "ipython",
    "version": 3
   },
   "file_extension": ".py",
   "mimetype": "text/x-python",
   "name": "python",
   "nbconvert_exporter": "python",
   "pygments_lexer": "ipython3",
   "version": 3
  },
  "orig_nbformat": 2
 },
 "nbformat": 4,
 "nbformat_minor": 2,
 "cells": [
  {
   "source": [
    "Tweepy ile Twitter API'ye nasıl bağlanılır? \n",
    "\n",
    "Belli etiketteki yazılan Tweet'ler bazı parametrelerle nasıl çekilir?"
   ],
   "cell_type": "markdown",
   "metadata": {}
  },
  {
   "cell_type": "code",
   "execution_count": null,
   "metadata": {},
   "outputs": [],
   "source": [
    "import tweepy\n",
    "import csv #Import csv\n",
    "\n",
    "consumer_key=' '                       #Öncelikle Twitter Developer hesabınızın onaylanması gerekiyor.\n",
    "consumer_secret=' '                    #Twitter API'den uygulama (App) oluşturduktan sonra alınan key'ler.\n",
    "access_token=' '\n",
    "access_token_secret=' '\n",
    "\n",
    "auth = tweepy.auth.OAuthHandler('consumer_key', 'consumer_secret')\n",
    "auth.set_access_token('access_token', 'access_token_secret')\n",
    "\n",
    "api = tweepy.API(auth)\n",
    "\n",
    "# Open/create a file to append data to / Twitter'dan aldığımız verileri belli bir 'csv' dosyasına yükleyebiliriz.\n",
    "csvFile = open('twitter_Api_data.csv', 'a')\n",
    "\n",
    "#Use csv writer \n",
    "csvWriter = csv.writer(csvFile)\n",
    "\n",
    "#Örnek olarak #Turkey etiketine sahip belli tarihler arası İngilizce 500 Tweet'i Twitter API'den çekebiliriz. Tweet'i atan kişiyi, Tweet'in oluşturulma tarihini ve Tweet'in kendisini text olarak alabiliyoruz.Burada Tweet'ler arası araştırma 'search' yapılabilir.\n",
    "\n",
    "for tweet in tweepy.Cursor(api.search, q = \"Turkey\", since = \"2020-09-14\", until = \"2020-09-15\", lang = \"en\").items(500):  \n",
    "    # Write a row to the CSV file. I use encode UTF-8\n",
    "    csvWriter.writerow([tweet.user.screen_name, tweet.created_at, tweet.text.encode('utf-8')])\n",
    "    \n",
    "    print (tweet.user.screen_name, tweet.created_at, tweet.text)\n",
    "csvFile.close()"
   ]
  }
 ]
}